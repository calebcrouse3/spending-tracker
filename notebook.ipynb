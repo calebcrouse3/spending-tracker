{
 "cells": [
  {
   "cell_type": "code",
   "execution_count": 21,
   "id": "a7887708",
   "metadata": {},
   "outputs": [
    {
     "data": {
      "text/html": [
       "<style>.container { width:80% !important; }</style>"
      ],
      "text/plain": [
       "<IPython.core.display.HTML object>"
      ]
     },
     "metadata": {},
     "output_type": "display_data"
    }
   ],
   "source": [
    "import pandas as pd\n",
    "import os\n",
    "import re\n",
    "import warnings\n",
    "import pandas as pd\n",
    "import yaml\n",
    "from pandas.core.common import SettingWithCopyWarning\n",
    "warnings.simplefilter(action=\"ignore\", category=SettingWithCopyWarning)\n",
    "\n",
    "from IPython.core.display import display, HTML\n",
    "display(HTML(\"<style>.container { width:80% !important; }</style>\"))\n",
    "\n",
    "pd.set_option(\"display.max_rows\", 2000)"
   ]
  },
  {
   "cell_type": "code",
   "execution_count": 22,
   "id": "0a18b2fe",
   "metadata": {},
   "outputs": [
    {
     "data": {
      "text/plain": [
       "['categories.yml',\n",
       " 'descriptions.yml',\n",
       " '__init__.py',\n",
       " '__pycache__',\n",
       " 'SessionState.py',\n",
       " 'main.py']"
      ]
     },
     "execution_count": 22,
     "metadata": {},
     "output_type": "execute_result"
    }
   ],
   "source": [
    "os.listdir(\"./app\")"
   ]
  },
  {
   "cell_type": "code",
   "execution_count": 23,
   "id": "ce53325f",
   "metadata": {},
   "outputs": [],
   "source": [
    "def load_yaml(path):\n",
    "    with open(path, 'r') as stream:\n",
    "        try:\n",
    "            return yaml.safe_load(stream)\n",
    "        except yaml.YAMLError as exc:\n",
    "            print(exc)\n",
    "\n",
    "descript_map = load_yaml(\"./app/descriptions.yml\")"
   ]
  },
  {
   "cell_type": "code",
   "execution_count": 24,
   "id": "aa226e00",
   "metadata": {},
   "outputs": [
    {
     "data": {
      "text/plain": [
       "{'description_maps': {'identity_phrases': ['ironnet',\n",
       "   'robinhood',\n",
       "   'home depot',\n",
       "   'amazon',\n",
       "   'venmo',\n",
       "   'remote online deposit',\n",
       "   'simple',\n",
       "   'atm',\n",
       "   'coinbase',\n",
       "   'chase card',\n",
       "   'citi',\n",
       "   'usaa',\n",
       "   'vhc',\n",
       "   'parking',\n",
       "   '5guys',\n",
       "   'prime video',\n",
       "   'cubesmart',\n",
       "   'hbo',\n",
       "   'bird app',\n",
       "   'bund up',\n",
       "   'total wine',\n",
       "   'bread & water',\n",
       "   'giant',\n",
       "   'idego',\n",
       "   'goat',\n",
       "   'lim*ride',\n",
       "   'onlyfans',\n",
       "   'postmates',\n",
       "   'philz coffee',\n",
       "   'northside',\n",
       "   'origin coffee lab',\n",
       "   'citicards cash reward',\n",
       "   '7-eleven'],\n",
       "  'phrase_maps': [{'key_phrase': 'electronic funds transfer',\n",
       "    'description': 'transfer'},\n",
       "   {'key_phrase': 'Payment Thank You - Web', 'description': 'transfer'},\n",
       "   {'key_phrase': 'citi card online payment', 'description': 'transfer'},\n",
       "   {'key_phrase': 'amzn', 'description': 'amazon'},\n",
       "   {'key_phrase': 'cromwell', 'description': 'rent cromwell'},\n",
       "   {'key_phrase': 'education student ln', 'description': 'student loans'},\n",
       "   {'key_phrase': 'harris', 'description': 'harris teeter'},\n",
       "   {'key_phrase': 'garage', 'description': 'parking'},\n",
       "   {'key_phrase': 'parkmobile', 'description': 'parking'},\n",
       "   {'key_phrase': 'long term', 'description': 'parking'},\n",
       "   {'key_phrase': 'bird app', 'description': 'bird scooters'},\n",
       "   {'key_phrase': 'foreign exchange rate adjustment fee',\n",
       "    'description': 'foreign exchange fee'}]}}"
      ]
     },
     "execution_count": 24,
     "metadata": {},
     "output_type": "execute_result"
    }
   ],
   "source": [
    "descript_map"
   ]
  },
  {
   "cell_type": "code",
   "execution_count": 25,
   "id": "46873616",
   "metadata": {},
   "outputs": [],
   "source": [
    "TRANSACT_KEY_COLS = [\"date\", \"original_description\", \"amount\"]\n",
    "\n",
    "PATH_TO_RAW = \"./data/raw/\"\n",
    "\n",
    "PATH_TO_CATEGORIZED = \"./data/categorized/\"\n",
    "\n",
    "PATH_TO_DESCRIPTION_MAP = \"./app/descriptions.yml\"\n",
    "\n",
    "def regex_filter(self, descr):\n",
    "    new_descr = descr\n",
    "    for pattern in self.regex_filters:\n",
    "        new_descr = re.sub(pattern, '', new_descr)\n",
    "    return new_descr\n",
    "\n",
    "\n",
    "def to_snake(txt):\n",
    "    words = txt.lower().split(\" \")\n",
    "    return \"_\".join(words)\n",
    "\n",
    "\n",
    "def get_transact_keys(df):\n",
    "    return df[TRANS_KEY_COLS].drop_duplicates()\n",
    "    \n",
    "    \n",
    "def lookup_description(original_description, descr_map):\n",
    "    # contain to hold any description matches\n",
    "    # some descriptions might be subsets of other\n",
    "    matched = []\n",
    "    \n",
    "    # if any phrases in identity_phrases are substring of original_description\n",
    "    # pretty descript is phrase\n",
    "    for phrase in descr_map['description_maps']['identity_phrases']:\n",
    "        if phrase.lower() in original_description.lower():\n",
    "            matched.append(phrase.title())\n",
    "            \n",
    "    for phrase_map in descr_map['description_maps']['phrase_maps']:\n",
    "        if phrase_map['key_phrase'].lower() in original_description.lower():\n",
    "            matched.append(phrase_map['description'].title())\n",
    "            \n",
    "    if len(matched) == 0:\n",
    "        return original_description\n",
    "    else:\n",
    "        lengths = [len(txt) for txt in matched]\n",
    "        max_len = max(lengths)\n",
    "        max_len_idx = lengths.index(max_len)\n",
    "        return matched[max_len_idx]\n",
    "    \n",
    "    \n",
    "def get_pretty_descriptions(original_descriptions):\n",
    "    descr_map = load_yaml(PATH_TO_DESCRIPTION_MAP)\n",
    "    new_descriptions = []\n",
    "    for orig in original_descriptions:\n",
    "        new_descriptions.append(lookup_description(orig, descr_map))\n",
    "    return new_descriptions\n",
    "    \n",
    "\n",
    "def load_raw_transactions():\n",
    "    df = pd.read_csv(PATH_TO_RAW + \"transactions.csv\")\n",
    "    df.columns = [to_snake(col) for col in df.columns]\n",
    "    \n",
    "    # remove repeated white space characters\n",
    "    df['original_description'] = df['original_description'].apply(lambda txt: ' '.join(txt.split()))\n",
    "    \n",
    "    # group by all values to aggregate duplicate transactions\n",
    "    group_df = df.groupby([\"date\", \"original_description\", \"transaction_type\", \"account_name\"], as_index = False).amount.sum()\n",
    "    \n",
    "    # parse original descriptions to get pretty descriptions\n",
    "    group_df[\"description\"] = get_pretty_descriptions(group_df[\"original_description\"].values)\n",
    "\n",
    "    return group_df\n",
    "    "
   ]
  },
  {
   "cell_type": "code",
   "execution_count": 26,
   "id": "4ba78f30",
   "metadata": {
    "scrolled": false
   },
   "outputs": [
    {
     "data": {
      "text/html": [
       "<div>\n",
       "<style scoped>\n",
       "    .dataframe tbody tr th:only-of-type {\n",
       "        vertical-align: middle;\n",
       "    }\n",
       "\n",
       "    .dataframe tbody tr th {\n",
       "        vertical-align: top;\n",
       "    }\n",
       "\n",
       "    .dataframe thead th {\n",
       "        text-align: right;\n",
       "    }\n",
       "</style>\n",
       "<table border=\"1\" class=\"dataframe\">\n",
       "  <thead>\n",
       "    <tr style=\"text-align: right;\">\n",
       "      <th></th>\n",
       "      <th>date</th>\n",
       "      <th>original_description</th>\n",
       "      <th>transaction_type</th>\n",
       "      <th>account_name</th>\n",
       "      <th>amount</th>\n",
       "      <th>description</th>\n",
       "    </tr>\n",
       "  </thead>\n",
       "  <tbody>\n",
       "    <tr>\n",
       "      <th>106</th>\n",
       "      <td>1/27/2021</td>\n",
       "      <td>CITI CARD ONLINE PAYMENT 4203</td>\n",
       "      <td>debit</td>\n",
       "      <td>CHASE COLLEGE</td>\n",
       "      <td>386.73</td>\n",
       "      <td>Transfer</td>\n",
       "    </tr>\n",
       "    <tr>\n",
       "      <th>582</th>\n",
       "      <td>2/02/2021</td>\n",
       "      <td>CITI CARD ONLINE PAYMENT 4203</td>\n",
       "      <td>debit</td>\n",
       "      <td>CHASE COLLEGE</td>\n",
       "      <td>398.48</td>\n",
       "      <td>Transfer</td>\n",
       "    </tr>\n",
       "    <tr>\n",
       "      <th>659</th>\n",
       "      <td>2/18/2021</td>\n",
       "      <td>CITI CARD ONLINE PAYMENT 4303</td>\n",
       "      <td>debit</td>\n",
       "      <td>CHASE COLLEGE</td>\n",
       "      <td>674.57</td>\n",
       "      <td>Transfer</td>\n",
       "    </tr>\n",
       "    <tr>\n",
       "      <th>715</th>\n",
       "      <td>3/05/2021</td>\n",
       "      <td>CITI CARD ONLINE PAYMENT 4203</td>\n",
       "      <td>debit</td>\n",
       "      <td>CHASE COLLEGE</td>\n",
       "      <td>511.13</td>\n",
       "      <td>Transfer</td>\n",
       "    </tr>\n",
       "    <tr>\n",
       "      <th>789</th>\n",
       "      <td>3/16/2021</td>\n",
       "      <td>CITI CARD ONLINE PAYMENT 4303</td>\n",
       "      <td>debit</td>\n",
       "      <td>CHASE COLLEGE</td>\n",
       "      <td>983.74</td>\n",
       "      <td>Transfer</td>\n",
       "    </tr>\n",
       "    <tr>\n",
       "      <th>878</th>\n",
       "      <td>4/13/2021</td>\n",
       "      <td>CITI AUTOPAY PAYMENT 0804</td>\n",
       "      <td>debit</td>\n",
       "      <td>CHASE COLLEGE</td>\n",
       "      <td>76.20</td>\n",
       "      <td>Citi</td>\n",
       "    </tr>\n",
       "    <tr>\n",
       "      <th>888</th>\n",
       "      <td>4/15/2021</td>\n",
       "      <td>CITI CARD ONLINE PAYMENT 4304</td>\n",
       "      <td>debit</td>\n",
       "      <td>CHASE COLLEGE</td>\n",
       "      <td>109.92</td>\n",
       "      <td>Transfer</td>\n",
       "    </tr>\n",
       "    <tr>\n",
       "      <th>950</th>\n",
       "      <td>4/30/2021</td>\n",
       "      <td>CITI CARD ONLINE PAYMENT 4204</td>\n",
       "      <td>debit</td>\n",
       "      <td>CHASE COLLEGE</td>\n",
       "      <td>216.76</td>\n",
       "      <td>Transfer</td>\n",
       "    </tr>\n",
       "    <tr>\n",
       "      <th>1080</th>\n",
       "      <td>5/24/2021</td>\n",
       "      <td>CITI CARD ONLINE PAYMENT 4204</td>\n",
       "      <td>debit</td>\n",
       "      <td>CHASE COLLEGE</td>\n",
       "      <td>786.27</td>\n",
       "      <td>Transfer</td>\n",
       "    </tr>\n",
       "    <tr>\n",
       "      <th>1162</th>\n",
       "      <td>6/11/2021</td>\n",
       "      <td>CITI CARD ONLINE PAYMENT 4304</td>\n",
       "      <td>debit</td>\n",
       "      <td>CHASE COLLEGE</td>\n",
       "      <td>431.43</td>\n",
       "      <td>Transfer</td>\n",
       "    </tr>\n",
       "    <tr>\n",
       "      <th>1163</th>\n",
       "      <td>6/11/2021</td>\n",
       "      <td>CITICARDS CASH REWARD</td>\n",
       "      <td>credit</td>\n",
       "      <td>CHASE COLLEGE</td>\n",
       "      <td>74.00</td>\n",
       "      <td>Citicards Cash Reward</td>\n",
       "    </tr>\n",
       "  </tbody>\n",
       "</table>\n",
       "</div>"
      ],
      "text/plain": [
       "           date           original_description transaction_type  \\\n",
       "106   1/27/2021  CITI CARD ONLINE PAYMENT 4203            debit   \n",
       "582   2/02/2021  CITI CARD ONLINE PAYMENT 4203            debit   \n",
       "659   2/18/2021  CITI CARD ONLINE PAYMENT 4303            debit   \n",
       "715   3/05/2021  CITI CARD ONLINE PAYMENT 4203            debit   \n",
       "789   3/16/2021  CITI CARD ONLINE PAYMENT 4303            debit   \n",
       "878   4/13/2021      CITI AUTOPAY PAYMENT 0804            debit   \n",
       "888   4/15/2021  CITI CARD ONLINE PAYMENT 4304            debit   \n",
       "950   4/30/2021  CITI CARD ONLINE PAYMENT 4204            debit   \n",
       "1080  5/24/2021  CITI CARD ONLINE PAYMENT 4204            debit   \n",
       "1162  6/11/2021  CITI CARD ONLINE PAYMENT 4304            debit   \n",
       "1163  6/11/2021          CITICARDS CASH REWARD           credit   \n",
       "\n",
       "       account_name  amount            description  \n",
       "106   CHASE COLLEGE  386.73               Transfer  \n",
       "582   CHASE COLLEGE  398.48               Transfer  \n",
       "659   CHASE COLLEGE  674.57               Transfer  \n",
       "715   CHASE COLLEGE  511.13               Transfer  \n",
       "789   CHASE COLLEGE  983.74               Transfer  \n",
       "878   CHASE COLLEGE   76.20                   Citi  \n",
       "888   CHASE COLLEGE  109.92               Transfer  \n",
       "950   CHASE COLLEGE  216.76               Transfer  \n",
       "1080  CHASE COLLEGE  786.27               Transfer  \n",
       "1162  CHASE COLLEGE  431.43               Transfer  \n",
       "1163  CHASE COLLEGE   74.00  Citicards Cash Reward  "
      ]
     },
     "execution_count": 26,
     "metadata": {},
     "output_type": "execute_result"
    }
   ],
   "source": [
    "# TODO not getting longest description for transactions. try citcards cash rewards\n",
    "raw_transact = load_raw_transactions()\n",
    "raw_transact.loc[raw_transact[\"original_description\"].apply(lambda x: \"citi\" in x.lower()), ]"
   ]
  },
  {
   "cell_type": "code",
   "execution_count": 61,
   "id": "5467408b",
   "metadata": {},
   "outputs": [
    {
     "data": {
      "text/html": [
       "<div>\n",
       "<style scoped>\n",
       "    .dataframe tbody tr th:only-of-type {\n",
       "        vertical-align: middle;\n",
       "    }\n",
       "\n",
       "    .dataframe tbody tr th {\n",
       "        vertical-align: top;\n",
       "    }\n",
       "\n",
       "    .dataframe thead th {\n",
       "        text-align: right;\n",
       "    }\n",
       "</style>\n",
       "<table border=\"1\" class=\"dataframe\">\n",
       "  <thead>\n",
       "    <tr style=\"text-align: right;\">\n",
       "      <th></th>\n",
       "      <th>date</th>\n",
       "      <th>original_description</th>\n",
       "      <th>description</th>\n",
       "      <th>transaction_type</th>\n",
       "      <th>amount</th>\n",
       "      <th>account_name</th>\n",
       "      <th>category</th>\n",
       "      <th>subcategory</th>\n",
       "    </tr>\n",
       "  </thead>\n",
       "  <tbody>\n",
       "    <tr>\n",
       "      <th>0</th>\n",
       "      <td>1/02/2020</td>\n",
       "      <td>7-ELEVEN ARLINGTON VA</td>\n",
       "      <td>7-Eleven</td>\n",
       "      <td>debit</td>\n",
       "      <td>6.88</td>\n",
       "      <td>CHASE COLLEGE</td>\n",
       "      <td>eating &amp; drinking out</td>\n",
       "      <td>resturants</td>\n",
       "    </tr>\n",
       "    <tr>\n",
       "      <th>1</th>\n",
       "      <td>1/02/2020</td>\n",
       "      <td>QuickPay with Zelle payment to I</td>\n",
       "      <td>QuickPay with Zelle payment to I</td>\n",
       "      <td>debit</td>\n",
       "      <td>1190.00</td>\n",
       "      <td>CHASE COLLEGE</td>\n",
       "      <td>grocery store</td>\n",
       "      <td>NaN</td>\n",
       "    </tr>\n",
       "    <tr>\n",
       "      <th>2</th>\n",
       "      <td>1/02/2020</td>\n",
       "      <td>REMOTE ONLINE DEPOSIT #</td>\n",
       "      <td>Remote Online Deposit</td>\n",
       "      <td>credit</td>\n",
       "      <td>450.00</td>\n",
       "      <td>CHASE COLLEGE</td>\n",
       "      <td>transportation</td>\n",
       "      <td>uber</td>\n",
       "    </tr>\n",
       "    <tr>\n",
       "      <th>3</th>\n",
       "      <td>1/02/2020</td>\n",
       "      <td>USAA P&amp;C EXT AUTOPAY 1896</td>\n",
       "      <td>Usaa</td>\n",
       "      <td>debit</td>\n",
       "      <td>71.29</td>\n",
       "      <td>CHASE COLLEGE</td>\n",
       "      <td>travel</td>\n",
       "      <td>airplane</td>\n",
       "    </tr>\n",
       "    <tr>\n",
       "      <th>4</th>\n",
       "      <td>1/03/2020</td>\n",
       "      <td>APPLE.COM/BILL 866-712-7753 CA</td>\n",
       "      <td>APPLE.COM/BILL 866-712-7753 CA</td>\n",
       "      <td>debit</td>\n",
       "      <td>29.99</td>\n",
       "      <td>CHASE COLLEGE</td>\n",
       "      <td>government</td>\n",
       "      <td>dmv</td>\n",
       "    </tr>\n",
       "  </tbody>\n",
       "</table>\n",
       "</div>"
      ],
      "text/plain": [
       "        date              original_description  \\\n",
       "0  1/02/2020             7-ELEVEN ARLINGTON VA   \n",
       "1  1/02/2020  QuickPay with Zelle payment to I   \n",
       "2  1/02/2020           REMOTE ONLINE DEPOSIT #   \n",
       "3  1/02/2020         USAA P&C EXT AUTOPAY 1896   \n",
       "4  1/03/2020    APPLE.COM/BILL 866-712-7753 CA   \n",
       "\n",
       "                        description transaction_type   amount   account_name  \\\n",
       "0                          7-Eleven            debit     6.88  CHASE COLLEGE   \n",
       "1  QuickPay with Zelle payment to I            debit  1190.00  CHASE COLLEGE   \n",
       "2             Remote Online Deposit           credit   450.00  CHASE COLLEGE   \n",
       "3                              Usaa            debit    71.29  CHASE COLLEGE   \n",
       "4    APPLE.COM/BILL 866-712-7753 CA            debit    29.99  CHASE COLLEGE   \n",
       "\n",
       "                category subcategory  \n",
       "0  eating & drinking out  resturants  \n",
       "1          grocery store         NaN  \n",
       "2         transportation        uber  \n",
       "3                 travel    airplane  \n",
       "4             government         dmv  "
      ]
     },
     "execution_count": 61,
     "metadata": {},
     "output_type": "execute_result"
    }
   ],
   "source": [
    "categorized = pd.read_csv(PATH_TO_CATEGORIZED + \"transactions.csv\")\n",
    "categorized.head()"
   ]
  },
  {
   "cell_type": "code",
   "execution_count": 69,
   "id": "3fe84026",
   "metadata": {},
   "outputs": [],
   "source": [
    "def get_description_category_map(categorized):\n",
    "    \"\"\"gets a mapping from pretty descriptions to most common category substring\n",
    "    previously categorized transactions\"\"\"\n",
    "\n",
    "    descript_cat_map = {}\n",
    "\n",
    "    # get count of category/subcategory per description\n",
    "    cat_count = categorized.groupby(\n",
    "        [\"description\", \"category\", \"subcategory\"],\n",
    "        as_index = False\n",
    "    ).date.count()\n",
    "\n",
    "    cat_count.rename(columns={\"date\":\"count\"}, inplace=True)\n",
    "\n",
    "    # sort by cat count descending\n",
    "    cat_count.sort_values([\"description\", \"count\"], ascending = False)\n",
    "\n",
    "    # row order partitioned by description\n",
    "    cat_count[\"row_num\"] = cat_count.groupby(\"description\").cumcount() + 1\n",
    "\n",
    "    # first row\n",
    "    cat_count.loc[cat_count[\"row_num\"] == 1, [\"description\", \"category\", \"subcategory\"]]\n",
    "\n",
    "    for index, row in cat_count.iterrows():\n",
    "        descript_cat_map[row[\"description\"]] = {\n",
    "            \"category\": row[\"category\"],\n",
    "            \"subcategory\": row[\"subcategory\"]\n",
    "            }\n",
    "\n",
    "    return descript_cat_map"
   ]
  },
  {
   "cell_type": "code",
   "execution_count": 74,
   "id": "a1c1b2db",
   "metadata": {},
   "outputs": [],
   "source": [
    "description_category_map = get_description_category_map(categorized)\n",
    "categories = load_yaml(\"./app/categories.yml\")"
   ]
  },
  {
   "cell_type": "code",
   "execution_count": 109,
   "id": "c077f7b8",
   "metadata": {},
   "outputs": [],
   "source": [
    "\n",
    "PATH_TO_CATEGORIES = \"./app/categories.yml\"\n",
    "\n",
    "\n",
    "def load_categories():\n",
    "    cats_yaml = load_yaml(PATH_TO_CATEGORIES)\n",
    "    categories = {}\n",
    "    for cat in cats_yaml['categories']:\n",
    "        categories[cat[\"name\"]] = cat[\"subcategories\"]\n",
    "    return categories"
   ]
  },
  {
   "cell_type": "code",
   "execution_count": 110,
   "id": "f010a3c0",
   "metadata": {},
   "outputs": [
    {
     "data": {
      "text/plain": [
       "{'eating & drinking out': ['',\n",
       "  'delivery',\n",
       "  'resturants',\n",
       "  'coffee shops',\n",
       "  'bars'],\n",
       " 'home': ['', 'rent', 'utilities', 'home items'],\n",
       " 'grocery store': [''],\n",
       " 'entertainment media': ['', 'movies', 'music', 'news', 'books'],\n",
       " 'amusement': [''],\n",
       " 'student loans': [''],\n",
       " 'transportation': ['', 'gas', 'uber', 'public'],\n",
       " 'lodging': ['', 'airbnb', 'hotel'],\n",
       " 'shopping': ['', 'music', 'sports', 'clothing', 'electronics', 'durables'],\n",
       " 'health': ['', 'doctor', 'pharmacy', 'hygene', 'gym', 'therapy'],\n",
       " 'travel': ['', 'airplane'],\n",
       " 'government': ['', 'taxes', 'dmv', 'tickets'],\n",
       " 'insurance': ['', 'renters', 'auto'],\n",
       " 'uncategorized': ['']}"
      ]
     },
     "execution_count": 110,
     "metadata": {},
     "output_type": "execute_result"
    }
   ],
   "source": [
    "categories = load_categories()\n",
    "categories"
   ]
  },
  {
   "cell_type": "code",
   "execution_count": 94,
   "id": "159ea4ae",
   "metadata": {},
   "outputs": [
    {
     "data": {
      "text/plain": [
       "[['', 'delivery', 'resturants', 'coffee shops', 'bars']]"
      ]
     },
     "execution_count": 94,
     "metadata": {},
     "output_type": "execute_result"
    }
   ],
   "source": [
    "[x[\"subcategories\"] for x in categories[\"categories\"] if x[\"name\"] == 'eating & drinking out']"
   ]
  },
  {
   "cell_type": "code",
   "execution_count": 82,
   "id": "062a17a4",
   "metadata": {},
   "outputs": [
    {
     "data": {
      "text/plain": [
       "{'7-Eleven': {'category': 'eating & drinking out',\n",
       "  'subcategory': 'resturants'},\n",
       " 'APPLE.COM/BILL 866-712-7753 CA': {'category': 'government',\n",
       "  'subcategory': 'dmv'},\n",
       " 'Remote Online Deposit': {'category': 'transportation',\n",
       "  'subcategory': 'uber'},\n",
       " 'Usaa': {'category': 'travel', 'subcategory': 'airplane'}}"
      ]
     },
     "execution_count": 82,
     "metadata": {},
     "output_type": "execute_result"
    }
   ],
   "source": [
    "description_category_map"
   ]
  },
  {
   "cell_type": "code",
   "execution_count": 111,
   "id": "bc492845",
   "metadata": {},
   "outputs": [],
   "source": [
    "def lookup_category(descr, description_category_map, categories):\n",
    "    if descr in description_category_map.keys():\n",
    "        category = description_category_map[descr][\"category\"]\n",
    "        subcategory = description_category_map[descr][\"subcategory\"]\n",
    "        # find index of category in ss.categories\n",
    "        cat_list = list(categories.keys())\n",
    "        print(cat_list)\n",
    "        cat_index = cat_list.index(category)\n",
    "        subcat_list = categories[category]\n",
    "        print(subcat_list)\n",
    "        subcat_index = subcat_list.index(subcategory)\n",
    "        return cat_index, subcat_index\n",
    "    else:\n",
    "        return 0, 0"
   ]
  },
  {
   "cell_type": "code",
   "execution_count": 112,
   "id": "17ab6431",
   "metadata": {},
   "outputs": [
    {
     "name": "stdout",
     "output_type": "stream",
     "text": [
      "['eating & drinking out', 'home', 'grocery store', 'entertainment media', 'amusement', 'student loans', 'transportation', 'lodging', 'shopping', 'health', 'travel', 'government', 'insurance', 'uncategorized']\n",
      "['', 'delivery', 'resturants', 'coffee shops', 'bars']\n"
     ]
    },
    {
     "data": {
      "text/plain": [
       "(0, 2)"
      ]
     },
     "execution_count": 112,
     "metadata": {},
     "output_type": "execute_result"
    }
   ],
   "source": [
    "lookup_category(\"7-Eleven\", description_category_map, categories)"
   ]
  },
  {
   "cell_type": "code",
   "execution_count": null,
   "id": "2d21c557",
   "metadata": {},
   "outputs": [],
   "source": []
  },
  {
   "cell_type": "code",
   "execution_count": null,
   "id": "1854a315",
   "metadata": {},
   "outputs": [],
   "source": []
  },
  {
   "cell_type": "code",
   "execution_count": null,
   "id": "0d523e98",
   "metadata": {},
   "outputs": [],
   "source": []
  },
  {
   "cell_type": "code",
   "execution_count": 38,
   "id": "2573568b",
   "metadata": {
    "scrolled": false
   },
   "outputs": [],
   "source": [
    "g1 = raw_transact.groupby([\"description\", \"original_description\"], as_index = False).date.count().sort_values([\"description\", \"original_description\"])\n",
    "g2 = g1.groupby(['description'])\n",
    "g1['bleh'] =  g2['date'].rank(method = \"max\")"
   ]
  },
  {
   "cell_type": "code",
   "execution_count": 43,
   "id": "80834517",
   "metadata": {
    "scrolled": false
   },
   "outputs": [],
   "source": [
    "g3 = g1.groupby([\"description\", \"bleh\"]).rank(ascending=False)"
   ]
  },
  {
   "cell_type": "code",
   "execution_count": 30,
   "id": "f83d59fc",
   "metadata": {},
   "outputs": [
    {
     "data": {
      "text/html": [
       "<div>\n",
       "<style scoped>\n",
       "    .dataframe tbody tr th:only-of-type {\n",
       "        vertical-align: middle;\n",
       "    }\n",
       "\n",
       "    .dataframe tbody tr th {\n",
       "        vertical-align: top;\n",
       "    }\n",
       "\n",
       "    .dataframe thead th {\n",
       "        text-align: right;\n",
       "    }\n",
       "</style>\n",
       "<table border=\"1\" class=\"dataframe\">\n",
       "  <thead>\n",
       "    <tr style=\"text-align: right;\">\n",
       "      <th></th>\n",
       "      <th>description</th>\n",
       "      <th>original_description</th>\n",
       "      <th>date</th>\n",
       "      <th>count_rank</th>\n",
       "    </tr>\n",
       "  </thead>\n",
       "  <tbody>\n",
       "    <tr>\n",
       "      <th>0</th>\n",
       "      <td>0031 MCLEAN MCLEAN VA</td>\n",
       "      <td>0031 MCLEAN MCLEAN VA</td>\n",
       "      <td>1</td>\n",
       "      <td>1.0</td>\n",
       "    </tr>\n",
       "    <tr>\n",
       "      <th>1</th>\n",
       "      <td>18TH STREET LOUNGE WASHINGTON DC</td>\n",
       "      <td>18TH STREET LOUNGE WASHINGTON DC</td>\n",
       "      <td>1</td>\n",
       "      <td>1.0</td>\n",
       "    </tr>\n",
       "    <tr>\n",
       "      <th>2</th>\n",
       "      <td>1WSHGTN NTNLS 15625130 WASHINGTO</td>\n",
       "      <td>1WSHGTN NTNLS 15625130 WASHINGTO</td>\n",
       "      <td>1</td>\n",
       "      <td>1.0</td>\n",
       "    </tr>\n",
       "    <tr>\n",
       "      <th>3</th>\n",
       "      <td>2097-CLT TRIP ADVISOR CHARLOTTE</td>\n",
       "      <td>2097-CLT TRIP ADVISOR CHARLOTTE</td>\n",
       "      <td>1</td>\n",
       "      <td>1.0</td>\n",
       "    </tr>\n",
       "    <tr>\n",
       "      <th>4</th>\n",
       "      <td>2COCOM*TAL-SOFTWARE.CO 888-24716</td>\n",
       "      <td>2COCOM*TAL-SOFTWARE.CO 888-24716</td>\n",
       "      <td>1</td>\n",
       "      <td>1.0</td>\n",
       "    </tr>\n",
       "  </tbody>\n",
       "</table>\n",
       "</div>"
      ],
      "text/plain": [
       "                        description              original_description  date  \\\n",
       "0             0031 MCLEAN MCLEAN VA             0031 MCLEAN MCLEAN VA     1   \n",
       "1  18TH STREET LOUNGE WASHINGTON DC  18TH STREET LOUNGE WASHINGTON DC     1   \n",
       "2  1WSHGTN NTNLS 15625130 WASHINGTO  1WSHGTN NTNLS 15625130 WASHINGTO     1   \n",
       "3   2097-CLT TRIP ADVISOR CHARLOTTE   2097-CLT TRIP ADVISOR CHARLOTTE     1   \n",
       "4  2COCOM*TAL-SOFTWARE.CO 888-24716  2COCOM*TAL-SOFTWARE.CO 888-24716     1   \n",
       "\n",
       "   count_rank  \n",
       "0         1.0  \n",
       "1         1.0  \n",
       "2         1.0  \n",
       "3         1.0  \n",
       "4         1.0  "
      ]
     },
     "execution_count": 30,
     "metadata": {},
     "output_type": "execute_result"
    }
   ],
   "source": [
    "g.head()"
   ]
  },
  {
   "cell_type": "code",
   "execution_count": 46,
   "id": "d68c3ba3",
   "metadata": {},
   "outputs": [
    {
     "data": {
      "text/plain": [
       "Index(['date', 'original_description', 'transaction_type', 'account_name',\n",
       "       'amount', 'description'],\n",
       "      dtype='object')"
      ]
     },
     "execution_count": 46,
     "metadata": {},
     "output_type": "execute_result"
    }
   ],
   "source": [
    "raw_transact.columns"
   ]
  },
  {
   "cell_type": "code",
   "execution_count": 67,
   "id": "5b64d423",
   "metadata": {
    "scrolled": false
   },
   "outputs": [
    {
     "data": {
      "text/plain": [
       "CHASE COLLEGE                      1674\n",
       "Venmo                                50\n",
       "CREDIT CARD                          37\n",
       "Citi® Double Cash Card               24\n",
       "Fidelity Rewards Visa Signature      17\n",
       "ETH Wallet                            5\n",
       "PayPal Account                        4\n",
       "My Wallet                             3\n",
       "INDIVIDUAL                            2\n",
       "ADA Wallet                            2\n",
       "Name: account_name, dtype: int64"
      ]
     },
     "execution_count": 67,
     "metadata": {},
     "output_type": "execute_result"
    }
   ],
   "source": [
    "raw_transact['account_name'].value_counts()"
   ]
  },
  {
   "cell_type": "code",
   "execution_count": 71,
   "id": "1ab29631",
   "metadata": {
    "scrolled": false
   },
   "outputs": [],
   "source": [
    "venmo_stuff = raw_transact.loc[(raw_transact['description'] == 'Venmo') | (raw_transact['account_name'] == 'Venmo'), ]"
   ]
  },
  {
   "cell_type": "code",
   "execution_count": 80,
   "id": "911d5866",
   "metadata": {},
   "outputs": [
    {
     "data": {
      "text/plain": [
       "description                        transaction_type\n",
       "Anotha One                         credit                 3.00\n",
       "Lvkbbq                             credit                 3.00\n",
       "Exvhange Rate Fees                 credit                 3.00\n",
       "ATM fee                            debit                  5.00\n",
       "Atm fees                           credit                 5.00\n",
       "Chug                               debit                  5.00\n",
       "Kai                                debit                 10.43\n",
       "Victoria Garcia Paid               credit                12.00\n",
       "Kai March                          credit                12.22\n",
       "Airline Seat Change                credit                14.40\n",
       "Rest mia                           debit                 17.88\n",
       "Grill V Pescadores                 credit                20.00\n",
       "Indian                             credit                21.50\n",
       "Parking                            credit                24.00\n",
       "Food                               debit                 24.57\n",
       "Dranks                             credit                25.00\n",
       "Kai                                credit                25.57\n",
       "Mina Mex Food                      credit                27.67\n",
       "Mezzanine                          credit                29.33\n",
       "Zelda                              credit                30.00\n",
       "Kbbq                               credit                32.00\n",
       "Bikes                              debit                 40.00\n",
       "Kai Monday Night                   credit                40.00\n",
       "Grill pesc                         debit                 43.89\n",
       "Kbbq Lv                            credit                49.50\n",
       "Booze                              credit                50.00\n",
       "Something I Didnt                  credit                52.00\n",
       "Covid Test                         credit                72.90\n",
       "Kai food                           debit                 76.72\n",
       "Rosa Negra                         credit                81.00\n",
       "Vegas                              debit                 85.00\n",
       "Beach stuff                        debit                105.57\n",
       "Airport Shuttle                    credit               115.00\n",
       "Caleb Crouse Paid Jason Closs      debit                122.50\n",
       "Atm                                credit               142.15\n",
       "Thanks                             debit                150.00\n",
       "Vegas Kbbq                         credit               154.00\n",
       "Hey                                debit                200.00\n",
       "Wedding Hotellly                   credit               210.00\n",
       "Akshay Arora Charged Caleb Crouse  debit                220.29\n",
       "Puhl                               debit                224.00\n",
       "Cosmo                              debit                607.00\n",
       "Transfer To JPMORGAN CHASE         debit                893.50\n",
       "Venmo                              debit               3625.71\n",
       "Name: amount, dtype: float64"
      ]
     },
     "execution_count": 80,
     "metadata": {},
     "output_type": "execute_result"
    }
   ],
   "source": [
    "venmo_stuff.groupby(['description', 'transaction_type']).amount.sum().sort_values()"
   ]
  },
  {
   "cell_type": "code",
   "execution_count": null,
   "id": "11150ec8",
   "metadata": {},
   "outputs": [],
   "source": []
  },
  {
   "cell_type": "code",
   "execution_count": null,
   "id": "b8e918ca",
   "metadata": {},
   "outputs": [],
   "source": []
  },
  {
   "cell_type": "code",
   "execution_count": null,
   "id": "f46add72",
   "metadata": {},
   "outputs": [],
   "source": []
  },
  {
   "cell_type": "code",
   "execution_count": 48,
   "id": "d651f164",
   "metadata": {},
   "outputs": [],
   "source": [
    "categories = load_yaml(\"./app/categories.yml\")"
   ]
  },
  {
   "cell_type": "code",
   "execution_count": 54,
   "id": "ba364bf3",
   "metadata": {},
   "outputs": [],
   "source": [
    "organized_cats = {}\n",
    "for cat in categories['categories']:\n",
    "    organized_cats[cat[\"name\"]] = cat[\"subcategories\"]"
   ]
  },
  {
   "cell_type": "code",
   "execution_count": 56,
   "id": "5d0a67dc",
   "metadata": {},
   "outputs": [
    {
     "data": {
      "text/plain": [
       "['amusement',\n",
       " 'eating & drinking out',\n",
       " 'entertainment media',\n",
       " 'government',\n",
       " 'grocery store',\n",
       " 'health',\n",
       " 'home',\n",
       " 'insurance',\n",
       " 'lodging',\n",
       " 'shopping',\n",
       " 'student loans',\n",
       " 'transportation',\n",
       " 'travel',\n",
       " 'uncategorized']"
      ]
     },
     "execution_count": 56,
     "metadata": {},
     "output_type": "execute_result"
    }
   ],
   "source": [
    "sorted(organized_cats)"
   ]
  },
  {
   "cell_type": "code",
   "execution_count": 57,
   "id": "34af3d34",
   "metadata": {},
   "outputs": [
    {
     "data": {
      "text/plain": [
       "{'eating & drinking out': ['',\n",
       "  'delivery',\n",
       "  'resturants',\n",
       "  'coffee shops',\n",
       "  'bars'],\n",
       " 'home': ['', 'rent', 'utilities', 'home items'],\n",
       " 'grocery store': [''],\n",
       " 'entertainment media': ['', 'movies', 'music', 'news', 'books'],\n",
       " 'amusement': [''],\n",
       " 'student loans': [''],\n",
       " 'transportation': ['', 'gas', 'uber', 'public'],\n",
       " 'lodging': ['', 'airbnb', 'hotel'],\n",
       " 'shopping': ['', 'music', 'sports', 'clothing', 'electronics', 'durables'],\n",
       " 'health': ['', 'doctor', 'pharmacy', 'hygene', 'gym', 'therapy'],\n",
       " 'travel': ['', 'airplane'],\n",
       " 'government': ['', 'taxes', 'dmv', 'tickets'],\n",
       " 'insurance': ['', 'renters', 'auto'],\n",
       " 'uncategorized': ['']}"
      ]
     },
     "execution_count": 57,
     "metadata": {},
     "output_type": "execute_result"
    }
   ],
   "source": [
    "organized_cats"
   ]
  },
  {
   "cell_type": "code",
   "execution_count": null,
   "id": "9dfb22dd",
   "metadata": {},
   "outputs": [],
   "source": []
  },
  {
   "cell_type": "code",
   "execution_count": 22,
   "id": "825e3802",
   "metadata": {
    "scrolled": true
   },
   "outputs": [],
   "source": [
    "# df[['date','original_description','amount']].value_counts().sort_values(ascending=False)"
   ]
  },
  {
   "cell_type": "code",
   "execution_count": 439,
   "id": "963789a4",
   "metadata": {},
   "outputs": [],
   "source": [
    "credits = df[df['transaction_type'] == 'credit']\n",
    "debits = df[df['transaction_type'] == 'debit']"
   ]
  },
  {
   "cell_type": "code",
   "execution_count": 442,
   "id": "df573c05",
   "metadata": {},
   "outputs": [],
   "source": [
    "def regex_filter(descr):\n",
    "    patterns = [\n",
    "        # only digits word\n",
    "        '\\s\\d+',\n",
    "        \n",
    "        # state and forward slash\n",
    "        '\\s[A-Z]{1,2}/[0-9]{2}',\n",
    "        \n",
    "        # filter LLC extension\n",
    "        ', LLC.*',\n",
    "        'LLC.*',\n",
    "        \n",
    "        # filter website extension\n",
    "        '\\sWWW.*',\n",
    "        '\\s\\S\\.com',\n",
    "        \n",
    "        # simple filters\n",
    "        '\\sWEB\\s',\n",
    "        'ID:',\n",
    "        \n",
    "        'TST\\*\\s',\n",
    "        \n",
    "        '\\sHTTP.*',\n",
    "    ]\n",
    "    \n",
    "    new_descr = descr\n",
    "    for pattern in patterns:\n",
    "        new_descr = re.sub(pattern, '', new_descr)\n",
    "        \n",
    "    return new_descr"
   ]
  }
 ],
 "metadata": {
  "kernelspec": {
   "display_name": "Python 3",
   "language": "python",
   "name": "python3"
  },
  "language_info": {
   "codemirror_mode": {
    "name": "ipython",
    "version": 3
   },
   "file_extension": ".py",
   "mimetype": "text/x-python",
   "name": "python",
   "nbconvert_exporter": "python",
   "pygments_lexer": "ipython3",
   "version": "3.9.1"
  }
 },
 "nbformat": 4,
 "nbformat_minor": 5
}
