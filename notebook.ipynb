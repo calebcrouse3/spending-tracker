{
 "cells": [
  {
   "cell_type": "code",
   "execution_count": 2,
   "id": "a7887708",
   "metadata": {},
   "outputs": [
    {
     "data": {
      "text/html": [
       "<style>.container { width:80% !important; }</style>"
      ],
      "text/plain": [
       "<IPython.core.display.HTML object>"
      ]
     },
     "metadata": {},
     "output_type": "display_data"
    }
   ],
   "source": [
    "import pandas as pd\n",
    "import os\n",
    "import re\n",
    "import warnings\n",
    "import pandas as pd\n",
    "import yaml\n",
    "from pandas.core.common import SettingWithCopyWarning\n",
    "warnings.simplefilter(action=\"ignore\", category=SettingWithCopyWarning)\n",
    "\n",
    "from IPython.core.display import display, HTML\n",
    "display(HTML(\"<style>.container { width:80% !important; }</style>\"))\n",
    "\n",
    "pd.set_option(\"display.max_rows\", 2000)"
   ]
  },
  {
   "cell_type": "code",
   "execution_count": 3,
   "id": "0a18b2fe",
   "metadata": {},
   "outputs": [
    {
     "data": {
      "text/plain": [
       "['.DS_Store', 'amazon', 'mint']"
      ]
     },
     "execution_count": 3,
     "metadata": {},
     "output_type": "execute_result"
    }
   ],
   "source": [
    "os.listdir(\"./data/raw/\")"
   ]
  },
  {
   "cell_type": "code",
   "execution_count": 101,
   "id": "0d8cc4c2",
   "metadata": {},
   "outputs": [],
   "source": [
    "\n",
    "RAW_TRANSACT_SCHEMA = [\n",
    "    \"date\",\n",
    "    \"original_description\",\n",
    "    \"transaction_type\",\n",
    "    \"amount\",\n",
    "    \"account_name\",\n",
    "]\n",
    "\n",
    "CATEGORIZED_TRANSACT_SCHEMA = RAW_TRANSACT_SCHEMA + [\n",
    "    \"description\",\n",
    "    \"category\",\n",
    "    \"subcategory\",\n",
    "]\n",
    "\n",
    "TRANSACT_KEY_COLS = [\"date\", \"original_description\", \"amount\"]\n",
    "\n",
    "PATH_TO_MINT_FOLDER = \"./data/raw/mint/\"\n",
    "\n",
    "PATH_TO_AMAZON_FOLDER = \"./data/raw/amazon/\"\n",
    "\n",
    "PATH_TO_CATEGORIZED = \"./data/categorized/transactions.csv\"\n",
    "\n",
    "PATH_TO_DESCRIPTION_MAP = \"./app/descriptions.yml\"\n",
    "\n",
    "PATH_TO_CATS = \"./app/categories.yml\"\n",
    "\n",
    "\n",
    "def load_mint_trans():\n",
    "    # check that there is only one file in mint folder\n",
    "    mint_files = os.listdir(PATH_TO_MINT_FOLDER)\n",
    "    \n",
    "    if len(mint_files) == 1:\n",
    "        df = pd.read_csv(PATH_TO_MINT_FOLDER + mint_files[0])\n",
    "        df.columns = [to_snake(col) for col in df.columns]\n",
    "        \n",
    "        # remove repeated white space characters\n",
    "        df['original_description'] = df['original_description'].apply(lambda txt: ' '.join(txt.split()))\n",
    "\n",
    "        # group by all values to aggregate duplicate transactions\n",
    "        group_df = df.groupby([\"date\", \"original_description\", \"transaction_type\", \"account_name\"], as_index = False).amount.sum()\n",
    "\n",
    "        group_df[\"amount\"] = group_df[\"amount\"].round(2)\n",
    "\n",
    "        return group_df[RAW_TRANSACT_SCHEMA]\n",
    "        \n",
    "    else:\n",
    "        return None\n",
    "        print(\"Mint folder needs attention!\")\n",
    "\n",
    "\n",
    "def load_raw_trans():\n",
    "    # load individual sources of raw transactions\n",
    "    mint_df = load_mint_trans()\n",
    "    amzn_df = load_amzn_trans()\n",
    "    \n",
    "    #union together\n",
    "    raw_trans = pd.concat([mint_df, amzn_df])\n",
    "\n",
    "    return raw_trans\n",
    "    \n",
    "\n",
    "def load_amzn_trans():\n",
    "    # check that there is only one file in mint folder\n",
    "    amzn_files = os.listdir(PATH_TO_AMAZON_FOLDER)\n",
    "    \n",
    "    if len(amzn_files) == 1:\n",
    "        df = pd.read_csv(PATH_TO_AMAZON_FOLDER + amzn_files[0])\n",
    "        df.columns = [to_snake(col) for col in df.columns]\n",
    "        df[\"original_description\"] = (\"AMZN: \" + df[\"title\"] + \" \" + df[\"category\"]).fillna(\"AMZN: unknown item / return\")\n",
    "        df[\"account_name\"] = \"AMAZON\"\n",
    "        df[\"amount\"] = df[\"item_total\"].apply(lambda x: float(x.replace(\"$\", \"\")))\n",
    "        df[\"transaction_type\"] = \"debit\"\n",
    "        df.rename(columns = \n",
    "                  {\"order_date\": \"date\",\n",
    "                  }, inplace = True)\n",
    "        \n",
    "        return df[RAW_TRANSACT_SCHEMA]\n",
    "        \n",
    "    else:\n",
    "        return None\n",
    "        print(\"Amazon folder needs attention!\")\n"
   ]
  },
  {
   "cell_type": "code",
   "execution_count": 113,
   "id": "c1d94819",
   "metadata": {},
   "outputs": [],
   "source": [
    "def load_amzn_trans():\n",
    "    # check that there is only one file in mint folder\n",
    "    amzn_files = os.listdir(PATH_TO_AMAZON_FOLDER)\n",
    "    \n",
    "    if len(amzn_files) == 1:\n",
    "        df = pd.read_csv(PATH_TO_AMAZON_FOLDER + amzn_files[0])\n",
    "        df.columns = [to_snake(col) for col in df.columns]\n",
    "        df[\"original_description\"] = (\"AMZN: \" + df[\"title\"] + \" \" + df[\"category\"]).fillna(\"AMZN: unknown item / return\")\n",
    "        df[\"account_name\"] = \"AMAZON\"\n",
    "        df[\"amount\"] = df[\"item_total\"].apply(lambda x: float(x.replace(\"$\", \"\")))\n",
    "        df[\"transaction_type\"] = \"debit\"\n",
    "        df.rename(columns = \n",
    "                  {\"order_date\": \"date\",\n",
    "                  }, inplace = True)\n",
    "        \n",
    "        return df[RAW_TRANSACT_SCHEMA]\n",
    "        \n",
    "    else:\n",
    "        return None\n",
    "        print(\"Amazon folder needs attention!\")\n"
   ]
  },
  {
   "cell_type": "code",
   "execution_count": null,
   "id": "dffbfadf",
   "metadata": {},
   "outputs": [],
   "source": []
  }
 ],
 "metadata": {
  "kernelspec": {
   "display_name": "Python 3",
   "language": "python",
   "name": "python3"
  },
  "language_info": {
   "codemirror_mode": {
    "name": "ipython",
    "version": 3
   },
   "file_extension": ".py",
   "mimetype": "text/x-python",
   "name": "python",
   "nbconvert_exporter": "python",
   "pygments_lexer": "ipython3",
   "version": "3.9.5"
  }
 },
 "nbformat": 4,
 "nbformat_minor": 5
}
